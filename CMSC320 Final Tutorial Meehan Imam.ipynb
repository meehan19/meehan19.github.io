{
 "cells": [
  {
   "cell_type": "markdown",
   "id": "062f5d53-ab6c-4a0e-91e0-51d5dac417ab",
   "metadata": {},
   "source": [
    "Meehan Imam CMSC320 Final Tutorial"
   ]
  },
  {
   "cell_type": "code",
   "execution_count": 1,
   "id": "fe16a2fa-edc8-4a84-9f72-76448fb3f0dd",
   "metadata": {},
   "outputs": [
    {
     "name": "stdout",
     "output_type": "stream",
     "text": [
      "Hello World\n"
     ]
    }
   ],
   "source": [
    "import pandas as pd\n",
    "import numpy as np\n",
    "import matplotlib\n",
    "\n",
    "print(\"Hello World\")"
   ]
  }
 ],
 "metadata": {
  "kernelspec": {
   "display_name": "Python 3 (ipykernel)",
   "language": "python",
   "name": "python3"
  },
  "language_info": {
   "codemirror_mode": {
    "name": "ipython",
    "version": 3
   },
   "file_extension": ".py",
   "mimetype": "text/x-python",
   "name": "python",
   "nbconvert_exporter": "python",
   "pygments_lexer": "ipython3",
   "version": "3.9.7"
  }
 },
 "nbformat": 4,
 "nbformat_minor": 5
}
